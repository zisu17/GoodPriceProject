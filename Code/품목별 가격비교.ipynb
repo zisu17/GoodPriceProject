{
 "cells": [
  {
   "cell_type": "code",
   "execution_count": 1,
   "id": "20313849",
   "metadata": {},
   "outputs": [],
   "source": [
    "import pandas as pd\n",
    "import numpy as np"
   ]
  },
  {
   "cell_type": "markdown",
   "id": "a06d02a8",
   "metadata": {},
   "source": [
    "- 서울시 착한가격음식점(라벨링)\n",
    "- 강남구 표본(메뉴라벨링)\n",
    "- 동작구 표본(메뉴라벨링)\n",
    "- 서대문구 표본(메뉴라벨링)"
   ]
  },
  {
   "cell_type": "code",
   "execution_count": 10,
   "id": "4ed56a5e",
   "metadata": {},
   "outputs": [],
   "source": [
    "df=pd.read_csv('./data/서울시 착한가격음식점(라벨링).csv',encoding='euc-kr')\n",
    "df_g=pd.read_csv('./data/강남구 표본(메뉴라벨링).csv',encoding='euc-kr')\n",
    "df_d=pd.read_csv('./data/동작구 표본(메뉴라벨링).csv',encoding='euc-kr')\n",
    "df_s=pd.read_csv('./data/서대문구 표본(메뉴라벨링).csv',encoding='euc-kr')"
   ]
  },
  {
   "cell_type": "code",
   "execution_count": 32,
   "id": "4ecc3a80",
   "metadata": {
    "scrolled": true
   },
   "outputs": [
    {
     "data": {
      "text/plain": [
       "업소명          0\n",
       "분류코드         0\n",
       "분류코드명        0\n",
       "업소 주소        0\n",
       "업소 전화번호      9\n",
       "찾아오시는 길    239\n",
       "업소정보        11\n",
       "자랑거리       119\n",
       "추천수          0\n",
       "기준년월         0\n",
       "업소 사진        0\n",
       "위도           0\n",
       "경도           0\n",
       "행정구          0\n",
       "행정동          0\n",
       "검색명          0\n",
       "식당아이디        0\n",
       "별점           0\n",
       "상품명          0\n",
       "가격정보         0\n",
       "메뉴라벨링        0\n",
       "외식비          0\n",
       "dtype: int64"
      ]
     },
     "execution_count": 32,
     "metadata": {},
     "output_type": "execute_result"
    }
   ],
   "source": [
    "df.isnull().sum()"
   ]
  },
  {
   "cell_type": "code",
   "execution_count": 33,
   "id": "487458a7",
   "metadata": {},
   "outputs": [],
   "source": [
    "menu=['냉면','비빔밥','김치찌개백반','삼겹살','자장면','삼계탕','칼국수','김밥']\n",
    "pa=[]\n",
    "for i in menu:\n",
    "    price=[]\n",
    "    for j in range(len(df)):\n",
    "        index1=df[df['메뉴라벨링']==i].index\n",
    "        price.append(df['가격정보'][index1])\n",
    "    a=np.average(price)\n",
    "    pa.append(a)"
   ]
  },
  {
   "cell_type": "code",
   "execution_count": 34,
   "id": "3060841c",
   "metadata": {},
   "outputs": [
    {
     "data": {
      "text/plain": [
       "[4945.3488372093025,\n",
       " 5469.2307692307695,\n",
       " 5832.330827067669,\n",
       " 10300.776699029126,\n",
       " 3636.231884057971,\n",
       " 11285.714285714286,\n",
       " 4855.263157894737,\n",
       " 1974.2857142857142]"
      ]
     },
     "execution_count": 34,
     "metadata": {},
     "output_type": "execute_result"
    }
   ],
   "source": [
    "pa"
   ]
  },
  {
   "cell_type": "code",
   "execution_count": null,
   "id": "18fb2a97",
   "metadata": {},
   "outputs": [],
   "source": []
  },
  {
   "cell_type": "code",
   "execution_count": null,
   "id": "89827c5f",
   "metadata": {},
   "outputs": [],
   "source": []
  }
 ],
 "metadata": {
  "kernelspec": {
   "display_name": "Python 3 (ipykernel)",
   "language": "python",
   "name": "python3"
  },
  "language_info": {
   "codemirror_mode": {
    "name": "ipython",
    "version": 3
   },
   "file_extension": ".py",
   "mimetype": "text/x-python",
   "name": "python",
   "nbconvert_exporter": "python",
   "pygments_lexer": "ipython3",
   "version": "3.9.12"
  }
 },
 "nbformat": 4,
 "nbformat_minor": 5
}
